{
 "cells": [
  {
   "cell_type": "code",
   "execution_count": null,
   "metadata": {},
   "outputs": [],
   "source": [
    "milk_production_rs_cities <- read.csv2('../spreadsheet/table74_rs_cities.csv', skip = 3, stringsAsFactors = FALSE, encoding = \"UTF-8\")\n",
    "milk_production_rs_cities"
   ]
  },
  {
   "cell_type": "code",
   "execution_count": null,
   "metadata": {},
   "outputs": [],
   "source": [
    "milk_production_rs_cities <- milk_production_rs_cities[-(1:2),]\n",
    "milk_production_rs_cities"
   ]
  },
  {
   "cell_type": "code",
   "execution_count": null,
   "metadata": {},
   "outputs": [],
   "source": [
    "milk_production_rs_cities <- milk_production_rs_cities[-(498:510),]\n",
    "milk_production_rs_cities"
   ]
  },
  {
   "cell_type": "code",
   "execution_count": null,
   "metadata": {},
   "outputs": [],
   "source": [
    "colnames(milk_production_rs_cities) <- gsub(\"X\", '', colnames(milk_production_rs_cities))\n",
    "milk_production_rs_cities[,1] <- gsub(\" [(]RS[)]\", \"\", milk_production_rs_cities[,1])\n",
    "colnames(milk_production_rs_cities)[1] <- \"Cities\"\n",
    "milk_production_rs_cities"
   ]
  },
  {
   "cell_type": "code",
   "execution_count": null,
   "metadata": {},
   "outputs": [],
   "source": [
    "for(i in 2:ncol(milk_production_rs_cities)){\n",
    "        milk_production_rs_cities[,i] <- gsub(\"[...]\", \"0\", milk_production_rs_cities[,i])\n",
    "        milk_production_rs_cities[,i] <- gsub(\"[-]\", \"0\", milk_production_rs_cities[,i])\n",
    "        milk_production_rs_cities[,i] <- as.numeric(as.character(unlist(milk_production_rs_cities[,i])))\n",
    "}\n",
    "milk_production_rs_cities"
   ]
  },
  {
   "cell_type": "code",
   "execution_count": null,
   "metadata": {},
   "outputs": [],
   "source": [
    "if (!require(rgdal)) install.packages(\"rgdal\", repos = \"http://cran.us.r-project.org\")\n",
    "require(rgdal)\n",
    "\n",
    "if (!require(RColorBrewer)) install.packages(\"rgdal\", repos = \"http://cran.us.r-project.org\")\n",
    "require(RColorBrewer)\n",
    "\n",
    "if (!require(dplyr)) install.packages(\"dplyr\", repos = \"http://cran.us.r-project.org\")\n",
    "require(dplyr)\n",
    "\n",
    "if (!require(ggplot2)) install.packages(\"ggplot2\", repos = \"http://cran.us.r-project.org\")\n",
    "require(ggplot2)\n",
    "\n",
    "if (!require(gganimate)) install.packages(\"gganimate\", repos = \"http://cran.us.r-project.org\")\n",
    "require(gganimate)\n",
    "\n",
    "if (!require(gifski)) install.packages(\"gifski\")\n",
    "require(gifski)\n",
    "\n",
    "if(!require(transformr)) install.packages('transformr')\n",
    "require(transformr)"
   ]
  },
  {
   "cell_type": "code",
   "execution_count": null,
   "metadata": {},
   "outputs": [],
   "source": [
    "shape_rs <- readOGR(\"../shape/Municipios_IBGE.shp\", \"Municipios_IBGE\", use_iconv = TRUE, encoding = \"UTF-8\")\n",
    "shape_rs"
   ]
  },
  {
   "cell_type": "code",
   "execution_count": null,
   "metadata": {},
   "outputs": [],
   "source": [
    "shape_rs@data$Label_N[!shape_rs@data$Label_N %in% milk_production_rs_cities$Cities]"
   ]
  },
  {
   "cell_type": "code",
   "execution_count": null,
   "metadata": {},
   "outputs": [],
   "source": [
    "milk_production_rs_cities[239,1] <- \"Maçambara\"\n",
    "milk_production_rs_cities[342,1] <- \"Restinga Seca\"\n",
    "milk_production_rs_cities[369,1] <- \"Santana do Livramento\"\n",
    "milk_production_rs_cities[483,1] <- \"Vespasiano Correa\"\n",
    "milk_production_rs_cities[496,1] <- \"Westfalia\""
   ]
  },
  {
   "cell_type": "code",
   "execution_count": null,
   "metadata": {},
   "outputs": [],
   "source": [
    "milk_production_rs_cities<-milk_production_rs_cities[order(milk_production_rs_cities$Cities),] "
   ]
  },
  {
   "cell_type": "code",
   "execution_count": null,
   "metadata": {},
   "outputs": [],
   "source": [
    "for(i in 2:ncol(milk_production_rs_cities)){\n",
    "     milk_production_rs_cities[,i] <- as.numeric(milk_production_rs_cities[,i]) / 1000\n",
    "}\n",
    "milk_production_rs_cities"
   ]
  },
  {
   "cell_type": "code",
   "execution_count": null,
   "metadata": {},
   "outputs": [],
   "source": [
    "milk_production_rs_cities$id <- c(1:nrow(milk_production_rs_cities))\n",
    "milk_production_rs_cities <- reshape::melt(milk_production_rs_cities, id.vars = c(\"Cities\", \"id\"))\n",
    "milk_production_rs_cities"
   ]
  },
  {
   "cell_type": "code",
   "execution_count": null,
   "metadata": {},
   "outputs": [],
   "source": [
    "shape_rs@data$id <- c(1:nrow(shape_rs@data))\n",
    "shapefile_df <- fortify(shape_rs, region = 'id') %>% mutate(id = as.numeric(id))\n",
    "shapefile_df"
   ]
  },
  {
   "cell_type": "code",
   "execution_count": null,
   "metadata": {},
   "outputs": [],
   "source": [
    "shapefile_RS <- sp::merge(shapefile_df, shape_rs@data, by = \"id\")\n",
    "shapefile_RS"
   ]
  },
  {
   "cell_type": "code",
   "execution_count": null,
   "metadata": {},
   "outputs": [],
   "source": [
    "map_data <- shapefile_RS %>% left_join(milk_production_rs_cities, by = c(\"Label_N\" = \"Cities\"))\n",
    "map_data"
   ]
  },
  {
   "cell_type": "code",
   "execution_count": null,
   "metadata": {},
   "outputs": [],
   "source": [
    "colnames(map_data)[20] <- \"year\"\n",
    "colnames(map_data)[21] <- \"milk_production\"\n",
    "map_data"
   ]
  },
  {
   "cell_type": "code",
   "execution_count": null,
   "metadata": {},
   "outputs": [],
   "source": [
    "map_data <- map_data[,-(14:17)]\n",
    "map_data <- map_data[,-(8:11)]\n",
    "map_data"
   ]
  },
  {
   "cell_type": "code",
   "execution_count": null,
   "metadata": {},
   "outputs": [],
   "source": [
    "map_data[is.na(map_data$values),]"
   ]
  },
  {
   "cell_type": "code",
   "execution_count": null,
   "metadata": {},
   "outputs": [],
   "source": [
    "map_data$year <- as.numeric(as.character(map_data$year))"
   ]
  },
  {
   "cell_type": "code",
   "execution_count": null,
   "metadata": {},
   "outputs": [],
   "source": [
    "quantile( milk_production_rs_cities$value[milk_production_rs_cities$variable==2017], p = (0:5)/5 )"
   ]
  },
  {
   "cell_type": "code",
   "execution_count": null,
   "metadata": {},
   "outputs": [],
   "source": [
    "quantile( map_data$milk_production[map_data$year==2017], p = (0:5)/5 )"
   ]
  },
  {
   "cell_type": "code",
   "execution_count": null,
   "metadata": {},
   "outputs": [],
   "source": [
    "x <- map_data[map_data$year==2017,]\n",
    "quantile( x$milk_production[!duplicated(x$Label_N)], p = (0:5)/5 )"
   ]
  },
  {
   "cell_type": "code",
   "execution_count": null,
   "metadata": {},
   "outputs": [],
   "source": [
    "map_data$cat <- ifelse(map_data$milk_production >= 14.59, 1, \n",
    "                ifelse(map_data$milk_production >= 7.98, 2, \n",
    "                ifelse(map_data$milk_production >= 4.15, 3, \n",
    "                ifelse(map_data$milk_production >= 1.11, 4, 5))))"
   ]
  },
  {
   "cell_type": "code",
   "execution_count": null,
   "metadata": {},
   "outputs": [],
   "source": [
    "map_data$cat <- factor(map_data$cat, levels = c(1:5), labels = c(\"14.59 - 62.91\", \"7.98 - 14.59\", \n",
    "    \"4.15 - 7.98\", \"1.11 - 4.15\", \"0.00 - 1.11\"))"
   ]
  },
  {
   "cell_type": "code",
   "execution_count": null,
   "metadata": {},
   "outputs": [],
   "source": [
    "p <- ggplot() +\n",
    "     geom_polygon(data = map_data, \n",
    "                  aes(fill = cat,\n",
    "                      x = long, \n",
    "                      y = lat, \n",
    "                      group = group), \n",
    "                  color = \"black\", \n",
    "                  size = 0.1) +\n",
    "     coord_equal() +\n",
    "     theme(legend.position = \"bottom\", \n",
    "           legend.title = element_text(size = 20), \n",
    "           legend.text = element_text(size = 18), \n",
    "           plot.title = element_text(size=24)) +\n",
    "     labs(x = NULL, \n",
    "          y = NULL, \n",
    "          title = \"Milk Production in {round(frame_time,0)} - Rio Grande do Sul - Brazil \") + \n",
    "     scale_fill_manual(values = rev(colorRampPalette(brewer.pal(5, \"Greens\"))(5)),\n",
    "                       name = \"Milk Production (Millions of Liters) - Source: IBGE, 2019.\",\n",
    "                       drop = FALSE,\n",
    "                       guide = guide_legend(direction = \"horizontal\",\n",
    "                                            keyheight = unit(4, units = \"mm\"),\n",
    "                                            keywidth = unit(40, units = \"mm\"),\n",
    "                                            title.position = 'top',\n",
    "                                            title.hjust = 0.5,\n",
    "                                            label.hjust = 0.5,\n",
    "                                            nrow = 1,\n",
    "                                            byrow = T,reverse = T,\n",
    "                                            label.position = \"bottom\")) + \n",
    "    transition_time(year)"
   ]
  },
  {
   "cell_type": "code",
   "execution_count": null,
   "metadata": {},
   "outputs": [],
   "source": [
    "animate(p, nframes = 220, fps = 10, width = 1400, height = 900, renderer = gifski_renderer(\"gganim.gif\", loop = FALSE)) +  ease_aes('cubic-in-out')"
   ]
  }
 ],
 "metadata": {
  "kernelspec": {
   "display_name": "R",
   "language": "R",
   "name": "ir"
  },
  "language_info": {
   "codemirror_mode": "r",
   "file_extension": ".r",
   "mimetype": "text/x-r-source",
   "name": "R",
   "pygments_lexer": "r",
   "version": "3.6.1"
  }
 },
 "nbformat": 4,
 "nbformat_minor": 2
}
